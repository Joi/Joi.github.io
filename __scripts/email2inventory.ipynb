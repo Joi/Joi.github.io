{
 "cells": [
  {
   "cell_type": "code",
   "execution_count": 3,
   "metadata": {},
   "outputs": [
    {
     "name": "stdout",
     "output_type": "stream",
     "text": [
      "({\"Red's Best Hake\": ['2', '$32.00']}, 'September 30, 2020')\n"
     ]
    }
   ],
   "source": [
    "# email2inventory\n",
    "# read evergreen email\n",
    "import os\n",
    "import re\n",
    "\n",
    "def evergreen_read(filename):\n",
    "    date = \"\"\n",
    "    product_flag = False\n",
    "    position = 0\n",
    "    items = {}\n",
    "    f = open(filename)\n",
    "    lines = f.readlines()\n",
    "    while not product_flag:\n",
    "        line = lines.pop(0).strip()\n",
    "        m = re.match(r\"Date: (\\w* \\d+, \\d{4})\", line)\n",
    "        if m:\n",
    "            date = m.group(1)\n",
    "        if line == \"Product\":\n",
    "            product_flag = True\n",
    "    line = lines.pop(0).strip()\n",
    "    assert line == \"Quantity\"\n",
    "    line = lines.pop(0).strip()\n",
    "    assert line == \"Price\"\n",
    "    while product_flag:\n",
    "        m = re.match(r\"(.*) - 1 Week\", lines.pop(0).strip())\n",
    "        try:\n",
    "            itemname = m.group(1)\n",
    "        except:\n",
    "            break\n",
    "        quantity = lines.pop(0).strip()\n",
    "        price = lines.pop(0).strip()\n",
    "        items[itemname] = [quantity,price]\n",
    "    f.close()\n",
    "    return(items, date)\n",
    "    \n",
    "print(evergreen_read(os.path.join(os.getenv(\"HOME\"), \"scripts/email2inventory/data/evergreen-20200930.txt\")))"
   ]
  },
  {
   "cell_type": "markdown",
   "metadata": {},
   "source": [
    "This uses OAUTH2 to get the two folders from the Sortly API and then open an item and get the image.\n",
    "\n",
    "Boris figured out how to do it using `urllib.request`, but I think I should be able to do it using `requests`.  Also, I think we're doing some sort of brute force OAUTH and that there is something more complicated but proper - maybe using requests. Something to try to figure out.\n",
    "\n",
    "I moved the client key to sortly_key.sh as a file that prints the key. I ignored it in GitHub and am not syncing it."
   ]
  },
  {
   "cell_type": "code",
   "execution_count": 11,
   "metadata": {},
   "outputs": [
    {
     "ename": "CalledProcessError",
     "evalue": "Command './sortly_key.sh' returned non-zero exit status 1.",
     "output_type": "error",
     "traceback": [
      "\u001b[0;31m---------------------------------------------------------------------------\u001b[0m",
      "\u001b[0;31mCalledProcessError\u001b[0m                        Traceback (most recent call last)",
      "\u001b[0;32m<ipython-input-11-1ab5baeb74f0>\u001b[0m in \u001b[0;36m<module>\u001b[0;34m\u001b[0m\n\u001b[1;32m      8\u001b[0m \u001b[0;32mfrom\u001b[0m \u001b[0mPIL\u001b[0m \u001b[0;32mimport\u001b[0m \u001b[0mImage\u001b[0m\u001b[0;34m\u001b[0m\u001b[0;34m\u001b[0m\u001b[0m\n\u001b[1;32m      9\u001b[0m \u001b[0;34m\u001b[0m\u001b[0m\n\u001b[0;32m---> 10\u001b[0;31m \u001b[0mclient_secret\u001b[0m \u001b[0;34m=\u001b[0m \u001b[0msubprocess\u001b[0m\u001b[0;34m.\u001b[0m\u001b[0mcheck_output\u001b[0m\u001b[0;34m(\u001b[0m\u001b[0;34m\"./sortly_key.sh\"\u001b[0m\u001b[0;34m)\u001b[0m\u001b[0;34m.\u001b[0m\u001b[0mstrip\u001b[0m\u001b[0;34m(\u001b[0m\u001b[0;34m)\u001b[0m\u001b[0;34m\u001b[0m\u001b[0;34m\u001b[0m\u001b[0m\n\u001b[0m\u001b[1;32m     11\u001b[0m \u001b[0mprint\u001b[0m\u001b[0;34m(\u001b[0m\u001b[0mclient_secret\u001b[0m\u001b[0;34m)\u001b[0m\u001b[0;34m\u001b[0m\u001b[0;34m\u001b[0m\u001b[0m\n\u001b[1;32m     12\u001b[0m \u001b[0;34m\u001b[0m\u001b[0m\n",
      "\u001b[0;32m~/opt/anaconda3/lib/python3.7/subprocess.py\u001b[0m in \u001b[0;36mcheck_output\u001b[0;34m(timeout, *popenargs, **kwargs)\u001b[0m\n\u001b[1;32m    393\u001b[0m \u001b[0;34m\u001b[0m\u001b[0m\n\u001b[1;32m    394\u001b[0m     return run(*popenargs, stdout=PIPE, timeout=timeout, check=True,\n\u001b[0;32m--> 395\u001b[0;31m                **kwargs).stdout\n\u001b[0m\u001b[1;32m    396\u001b[0m \u001b[0;34m\u001b[0m\u001b[0m\n\u001b[1;32m    397\u001b[0m \u001b[0;34m\u001b[0m\u001b[0m\n",
      "\u001b[0;32m~/opt/anaconda3/lib/python3.7/subprocess.py\u001b[0m in \u001b[0;36mrun\u001b[0;34m(input, capture_output, timeout, check, *popenargs, **kwargs)\u001b[0m\n\u001b[1;32m    485\u001b[0m         \u001b[0;32mif\u001b[0m \u001b[0mcheck\u001b[0m \u001b[0;32mand\u001b[0m \u001b[0mretcode\u001b[0m\u001b[0;34m:\u001b[0m\u001b[0;34m\u001b[0m\u001b[0;34m\u001b[0m\u001b[0m\n\u001b[1;32m    486\u001b[0m             raise CalledProcessError(retcode, process.args,\n\u001b[0;32m--> 487\u001b[0;31m                                      output=stdout, stderr=stderr)\n\u001b[0m\u001b[1;32m    488\u001b[0m     \u001b[0;32mreturn\u001b[0m \u001b[0mCompletedProcess\u001b[0m\u001b[0;34m(\u001b[0m\u001b[0mprocess\u001b[0m\u001b[0;34m.\u001b[0m\u001b[0margs\u001b[0m\u001b[0;34m,\u001b[0m \u001b[0mretcode\u001b[0m\u001b[0;34m,\u001b[0m \u001b[0mstdout\u001b[0m\u001b[0;34m,\u001b[0m \u001b[0mstderr\u001b[0m\u001b[0;34m)\u001b[0m\u001b[0;34m\u001b[0m\u001b[0;34m\u001b[0m\u001b[0m\n\u001b[1;32m    489\u001b[0m \u001b[0;34m\u001b[0m\u001b[0m\n",
      "\u001b[0;31mCalledProcessError\u001b[0m: Command './sortly_key.sh' returned non-zero exit status 1."
     ]
    }
   ],
   "source": [
    "# trying to access Sortly API\n",
    "import urllib.request\n",
    "import json\n",
    "import urllib\n",
    "import requests\n",
    "import io\n",
    "import subprocess\n",
    "from PIL import Image\n",
    "\n",
    "client_secret = subprocess.check_output(\"./sortly_key.sh\").strip()\n",
    "print(client_secret)\n",
    "\n",
    "headers = {\n",
    "  'Accept': 'application/json',\n",
    "  'Authorization': client_secret\n",
    "}\n",
    "# trying to use request instead of urllib but can't figure it out\n",
    "# request = requests.get('https://api.sortly.co/api/v1/items?per_page=&page=&folder_id=&include=', headers)\n",
    "# print(request)\n",
    "# response_py = request.json()\n",
    "request = urllib.request.Request('https://api.sortly.co/api/v1/items?per_page=&page=&folder_id=&include=', headers=headers)\n",
    "response_body = urllib.request.urlopen(request).read()\n",
    "response_py = json.loads(response_body)\n",
    "print(response_py)\n",
    "next_url = response_py['meta']['next_page_url']\n",
    "request = urllib.request.Request(next_url, headers=headers)\n",
    "response_body = urllib.request.urlopen(request).read()\n",
    "response_py = json.loads(response_body)\n",
    "print(response_py)\n",
    "next_url = response_py['meta']['next_page_url']\n",
    "request = urllib.request.Request('https://api.sortly.co/api/v1/items/17481596?include=custom_attributes%2Cphotos', headers=headers)\n",
    "response_body = urllib.request.urlopen(request).read()\n",
    "response_py = json.loads(response_body)\n",
    "print(response_py)\n",
    "photo_url = response_py['data']['photos'][0]['url']\n",
    "response = requests.get(photo_url)\n",
    "img = Image.open(io.BytesIO(response.content))\n",
    "img.show()"
   ]
  },
  {
   "cell_type": "code",
   "execution_count": null,
   "metadata": {},
   "outputs": [],
   "source": []
  }
 ],
 "metadata": {
  "kernelspec": {
   "display_name": "Python 3",
   "language": "python",
   "name": "python3"
  },
  "language_info": {
   "codemirror_mode": {
    "name": "ipython",
    "version": 3
   },
   "file_extension": ".py",
   "mimetype": "text/x-python",
   "name": "python",
   "nbconvert_exporter": "python",
   "pygments_lexer": "ipython3",
   "version": "3.7.4"
  }
 },
 "nbformat": 4,
 "nbformat_minor": 4
}
