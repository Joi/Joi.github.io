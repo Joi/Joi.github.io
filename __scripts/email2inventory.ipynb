{
 "cells": [
  {
   "cell_type": "code",
   "execution_count": 3,
   "metadata": {},
   "outputs": [
    {
     "name": "stdout",
     "output_type": "stream",
     "text": [
      "({\"Red's Best Hake\": ['2', '$32.00']}, 'September 30, 2020')\n"
     ]
    }
   ],
   "source": [
    "# email2inventory\n",
    "# read evergreen email\n",
    "import os\n",
    "import re\n",
    "\n",
    "def evergreen_read(filename):\n",
    "    date = \"\"\n",
    "    product_flag = False\n",
    "    position = 0\n",
    "    items = {}\n",
    "    f = open(filename)\n",
    "    lines = f.readlines()\n",
    "    while not product_flag:\n",
    "        line = lines.pop(0).strip()\n",
    "        m = re.match(r\"Date: (\\w* \\d+, \\d{4})\", line)\n",
    "        if m:\n",
    "            date = m.group(1)\n",
    "        if line == \"Product\":\n",
    "            product_flag = True\n",
    "    line = lines.pop(0).strip()\n",
    "    assert line == \"Quantity\"\n",
    "    line = lines.pop(0).strip()\n",
    "    assert line == \"Price\"\n",
    "    while product_flag:\n",
    "        m = re.match(r\"(.*) - 1 Week\", lines.pop(0).strip())\n",
    "        try:\n",
    "            itemname = m.group(1)\n",
    "        except:\n",
    "            break\n",
    "        quantity = lines.pop(0).strip()\n",
    "        price = lines.pop(0).strip()\n",
    "        items[itemname] = [quantity,price]\n",
    "    f.close()\n",
    "    return(items, date)\n",
    "    \n",
    "print(evergreen_read(os.path.join(os.getenv(\"HOME\"), \"scripts/email2inventory/data/evergreen-20200930.txt\")))"
   ]
  },
  {
   "cell_type": "markdown",
   "metadata": {},
   "source": [
    "This uses OAUTH2 to get the two folders from the Sortly API and then open an item and get the image.\n",
    "\n",
    "Boris figured out how to do it using `urllib.request`, but I think I should be able to do it using `requests`.  Also, I think we're doing some sort of brute force OAUTH and that there is something more complicated but proper - maybe using requests. Something to try to figure out.\n",
    "\n",
    "I moved the client key to sortly_key.sh as a file that prints the key. I ignored it in GitHub and am not syncing it."
   ]
  },
  {
   "cell_type": "code",
   "execution_count": 12,
   "metadata": {},
   "outputs": [
    {
     "name": "stdout",
     "output_type": "stream",
     "text": [
      "b'sk_sortly_b4BJG2mKbyXTFywxPaoa'\n",
      "{'meta': {'page': 1, 'next_page_url': 'https://api.sortly.co/api/v1/items?folder_id=&include=&page=2&per_page=', 'total_pages': 2, 'total_count': 2}, 'data': [{'id': 17356161, 'name': 'Food', 'price': None, 'quantity': None, 'min_quantity': None, 'notes': None, 'parent_id': None, 'sid': 'S3YNFR0001', 'label_url': None, 'label_url_type': None, 'label_url_extra': None, 'label_url_extra_type': None, 'tag_names': [], 'type': 'folder', 'created_at': '2020-09-30T13:32:44.867Z', 'updated_at': '2020-09-30T13:32:44.867Z'}]}\n",
      "{'meta': {'page': 2, 'next_page_url': None, 'total_pages': 2, 'total_count': 2}, 'data': [{'id': 17356162, 'name': 'Durable Things', 'price': None, 'quantity': None, 'min_quantity': None, 'notes': None, 'parent_id': None, 'sid': 'S3YNFR0002', 'label_url': None, 'label_url_type': None, 'label_url_extra': None, 'label_url_extra_type': None, 'tag_names': [], 'type': 'folder', 'created_at': '2020-09-30T13:32:45.181Z', 'updated_at': '2020-10-04T11:42:09.498Z'}]}\n",
      "{'data': {'id': 17481596, 'name': 'Open qPCR 1x Ch Real-Time PCR Machine', 'price': '5799.0', 'quantity': 1, 'min_quantity': None, 'notes': 'Purchased by CCI', 'parent_id': 17444508, 'sid': 'S3YNFT0027', 'label_url': None, 'label_url_type': None, 'label_url_extra': None, 'label_url_extra_type': None, 'tag_names': [], 'type': 'item', 'created_at': '2020-10-04T11:44:23.236Z', 'updated_at': '2020-10-04T12:12:17.159Z', 'custom_attribute_values': [{'value': '2020-09-05T04:00:00.000Z', 'custom_attribute_id': 170931, 'custom_attribute_name': 'Purchase Date'}, {'value': None, 'custom_attribute_id': 171873, 'custom_attribute_name': 'Product URL'}], 'photos': [{'id': 14048023, 'name': 'C47FAB58-BB23-4B93-978D-07AC1F1C2EB0_1_105_c.jpeg', 'url': 'https://lnk.sortly.co/v2/downloads/photo/v2_KE2C-VZ-LqHeLwadB6KTezw9J03EAYrDoatD67h1l7x0iJYafcmiMQ=='}]}}\n"
     ]
    }
   ],
   "source": [
    "# trying to access Sortly API\n",
    "import urllib.request\n",
    "import json\n",
    "import urllib\n",
    "import requests\n",
    "import io\n",
    "import subprocess\n",
    "from PIL import Image\n",
    "\n",
    "client_secret = subprocess.check_output(\"./sortly_key.sh\").strip()\n",
    "print(client_secret)\n",
    "\n",
    "headers = {\n",
    "  'Accept': 'application/json',\n",
    "  'Authorization': client_secret\n",
    "}\n",
    "# trying to use request instead of urllib but can't figure it out\n",
    "# request = requests.get('https://api.sortly.co/api/v1/items?per_page=&page=&folder_id=&include=', headers)\n",
    "# print(request)\n",
    "# response_py = request.json()\n",
    "request = urllib.request.Request('https://api.sortly.co/api/v1/items?per_page=&page=&folder_id=&include=', headers=headers)\n",
    "response_body = urllib.request.urlopen(request).read()\n",
    "response_py = json.loads(response_body)\n",
    "print(response_py)\n",
    "next_url = response_py['meta']['next_page_url']\n",
    "request = urllib.request.Request(next_url, headers=headers)\n",
    "response_body = urllib.request.urlopen(request).read()\n",
    "response_py = json.loads(response_body)\n",
    "print(response_py)\n",
    "next_url = response_py['meta']['next_page_url']\n",
    "request = urllib.request.Request('https://api.sortly.co/api/v1/items/17481596?include=custom_attributes%2Cphotos', headers=headers)\n",
    "response_body = urllib.request.urlopen(request).read()\n",
    "response_py = json.loads(response_body)\n",
    "print(response_py)\n",
    "photo_url = response_py['data']['photos'][0]['url']\n",
    "response = requests.get(photo_url)\n",
    "img = Image.open(io.BytesIO(response.content))\n",
    "img.show()"
   ]
  },
  {
   "cell_type": "code",
   "execution_count": null,
   "metadata": {},
   "outputs": [],
   "source": []
  }
 ],
 "metadata": {
  "kernelspec": {
   "display_name": "Python 3",
   "language": "python",
   "name": "python3"
  },
  "language_info": {
   "codemirror_mode": {
    "name": "ipython",
    "version": 3
   },
   "file_extension": ".py",
   "mimetype": "text/x-python",
   "name": "python",
   "nbconvert_exporter": "python",
   "pygments_lexer": "ipython3",
   "version": "3.7.4"
  }
 },
 "nbformat": 4,
 "nbformat_minor": 4
}
