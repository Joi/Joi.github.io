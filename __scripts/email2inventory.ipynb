{
 "cells": [
  {
   "cell_type": "code",
   "execution_count": 93,
   "metadata": {},
   "outputs": [
    {
     "name": "stdout",
     "output_type": "stream",
     "text": [
      "{'items': {\"Red's Best Hake\": ['2', '$32.00']}, 'date': 'September 30, 2020'}\n"
     ]
    }
   ],
   "source": [
    "# email2inventory\n",
    "# read evergreen email\n",
    "# this script will fail if scripts/email2inventory/data/evergreen-20200930.txt doesn't exist\n",
    "\n",
    "import os\n",
    "import re\n",
    "\n",
    "def evergreen_read(filename):\n",
    "    date = \"\"\n",
    "    product_flag = False\n",
    "    position = 0\n",
    "    items = {}\n",
    "    f = open(filename)\n",
    "    lines = f.readlines()\n",
    "    while not product_flag:\n",
    "        line = lines.pop(0).strip()\n",
    "        m = re.match(r\"Date: (\\w* \\d+, \\d{4})\", line)\n",
    "        if m:\n",
    "            date = m.group(1)\n",
    "        if line == \"Product\":\n",
    "            product_flag = True\n",
    "    line = lines.pop(0).strip()\n",
    "    assert line == \"Quantity\"\n",
    "    line = lines.pop(0).strip()\n",
    "    assert line == \"Price\"\n",
    "    while product_flag:\n",
    "        m = re.match(r\"(.*) - 1 Week\", lines.pop(0).strip())\n",
    "        try:\n",
    "            itemname = m.group(1)\n",
    "        except:\n",
    "            break\n",
    "        quantity = lines.pop(0).strip()\n",
    "        price = lines.pop(0).strip()\n",
    "        items[itemname] = [quantity,price]\n",
    "    f.close()\n",
    "    return({'items': items, 'date' : date})\n",
    "    \n",
    "print(evergreen_read(os.path.join(\"email_data/evergreen-20200930.txt\")))"
   ]
  },
  {
   "cell_type": "code",
   "execution_count": 102,
   "metadata": {},
   "outputs": [
    {
     "name": "stdout",
     "output_type": "stream",
     "text": [
      "{'items': {'McCrea Vineyard Chardonnay Sonoma Mountain': [2, '2018'], 'Durell Vineyard Chardonnay Sonoma Coast': [2, '2018'], 'Laguna Ridge Vineyard Pinot Noir Russian River Valley': [2, '2018']}, 'date': 'September 12, 2020'}\n"
     ]
    }
   ],
   "source": [
    "# email2inventory\n",
    "# read kistler email\n",
    "# this script will fail if scripts/email2inventory/data/kistler-20200912.txt doesn't exist\n",
    "\n",
    "import os\n",
    "import re\n",
    "\n",
    "def kistler_read(filename):\n",
    "    date = \"\"\n",
    "    product_flag = False\n",
    "    position = 0\n",
    "    items = {}\n",
    "    f = open(filename)\n",
    "    lines = f.readlines()\n",
    "    while not product_flag and lines:\n",
    "        line = lines.pop(0).strip()\n",
    "        m = re.match(r\"Date: (\\w* \\d+, \\d{4})\", line)\n",
    "        if m:\n",
    "            date = m.group(1)\n",
    "        elif line == \"Total\":\n",
    "            product_flag = True\n",
    "        while product_flag:\n",
    "            m = re.search(r\"(\\d+)-Bottle Mixed Package\\*$\", lines.pop(0).strip())\n",
    "            items = get_package(int(m.group(1)),lines)\n",
    "            product_flag = False\n",
    "    f.close()\n",
    "    return({'items' : items, 'date' : date})\n",
    "\n",
    "def get_package(bottles,lines):\n",
    "    inventory = {}\n",
    "    while bottles > 0:\n",
    "        line = lines.pop(0).strip()\n",
    "        m = re.match(r\"\\•(\\d+) btls (\\d{4}) (.*)$\",line)\n",
    "        inventory[m.group(3)] = [int(m.group(1)), m.group(2)]\n",
    "        bottles -= int(m.group(1))\n",
    "    return inventory\n",
    "    \n",
    "print(kistler_read(os.path.join(\"email_data/kistler-20200912.txt\")))"
   ]
  },
  {
   "cell_type": "markdown",
   "metadata": {},
   "source": [
    "This uses OAUTH2 to get the two folders from the Sortly API and then open an item and get the image.\n",
    "\n",
    "Boris figured out how to do it using `urllib.request`, but I think I should be able to do it using `requests`.  Also, I think we're doing some sort of brute force OAUTH and that there is something more complicated but proper - maybe using requests. Something to try to figure out.\n",
    "\n",
    "I moved the client key to sortly_key.sh as a file that prints the key. I ignored it in GitHub and am not syncing it."
   ]
  },
  {
   "cell_type": "code",
   "execution_count": 111,
   "metadata": {},
   "outputs": [
    {
     "name": "stdout",
     "output_type": "stream",
     "text": [
      "{'meta': {'page': 1, 'next_page_url': 'https://api.sortly.co/api/v1/items?folder_id=&include=&page=2&per_page=', 'total_pages': 2, 'total_count': 2}, 'data': [{'id': 17356161, 'name': 'Food', 'price': None, 'quantity': None, 'min_quantity': None, 'notes': None, 'parent_id': None, 'sid': 'S3YNFR0001', 'label_url': None, 'label_url_type': None, 'label_url_extra': None, 'label_url_extra_type': None, 'tag_names': [], 'type': 'folder', 'created_at': '2020-09-30T13:32:44.867Z', 'updated_at': '2020-09-30T13:32:44.867Z'}]}\n",
      "Food\n",
      "Durable Things\n",
      "{'data': {'id': 17481596, 'name': 'Open qPCR 1x Ch Real-Time PCR Machine', 'price': '5799.0', 'quantity': 1, 'min_quantity': None, 'notes': 'Purchased by CCI', 'parent_id': 17444508, 'sid': 'S3YNFT0027', 'label_url': None, 'label_url_type': None, 'label_url_extra': None, 'label_url_extra_type': None, 'tag_names': [], 'type': 'item', 'created_at': '2020-10-04T11:44:23.236Z', 'updated_at': '2020-10-04T12:12:17.159Z', 'custom_attribute_values': [{'value': '2020-09-05T04:00:00.000Z', 'custom_attribute_id': 170931, 'custom_attribute_name': 'Purchase Date'}, {'value': None, 'custom_attribute_id': 171873, 'custom_attribute_name': 'Product URL'}], 'photos': [{'id': 14048023, 'name': 'C47FAB58-BB23-4B93-978D-07AC1F1C2EB0_1_105_c.jpeg', 'url': 'https://lnk.sortly.co/v2/downloads/photo/v2_6QeNcrqCed73-1X8ZsC1T8vpSb1Y2KM5N_aMDUXJ8XPFoBrggSMSfA=='}]}}\n"
     ]
    },
    {
     "ename": "TypeError",
     "evalue": "list indices must be integers or slices, not str",
     "output_type": "error",
     "traceback": [
      "\u001b[0;31m---------------------------------------------------------------------------\u001b[0m",
      "\u001b[0;31mTypeError\u001b[0m                                 Traceback (most recent call last)",
      "\u001b[0;32m<ipython-input-111-9def8739cf92>\u001b[0m in \u001b[0;36m<module>\u001b[0;34m\u001b[0m\n\u001b[1;32m     33\u001b[0m \u001b[0mresponse_py\u001b[0m \u001b[0;34m=\u001b[0m \u001b[0mjson\u001b[0m\u001b[0;34m.\u001b[0m\u001b[0mloads\u001b[0m\u001b[0;34m(\u001b[0m\u001b[0mresponse_body\u001b[0m\u001b[0;34m)\u001b[0m\u001b[0;34m\u001b[0m\u001b[0;34m\u001b[0m\u001b[0m\n\u001b[1;32m     34\u001b[0m \u001b[0mprint\u001b[0m\u001b[0;34m(\u001b[0m\u001b[0mresponse_py\u001b[0m\u001b[0;34m)\u001b[0m\u001b[0;34m\u001b[0m\u001b[0;34m\u001b[0m\u001b[0m\n\u001b[0;32m---> 35\u001b[0;31m \u001b[0mphoto_url\u001b[0m \u001b[0;34m=\u001b[0m \u001b[0mresponse_py\u001b[0m\u001b[0;34m[\u001b[0m\u001b[0;34m'data'\u001b[0m\u001b[0;34m]\u001b[0m\u001b[0;34m[\u001b[0m\u001b[0;34m'photos'\u001b[0m\u001b[0;34m]\u001b[0m\u001b[0;34m[\u001b[0m\u001b[0;34m'url'\u001b[0m\u001b[0;34m]\u001b[0m\u001b[0;34m\u001b[0m\u001b[0;34m\u001b[0m\u001b[0m\n\u001b[0m\u001b[1;32m     36\u001b[0m \u001b[0mresponse\u001b[0m \u001b[0;34m=\u001b[0m \u001b[0mrequests\u001b[0m\u001b[0;34m.\u001b[0m\u001b[0mget\u001b[0m\u001b[0;34m(\u001b[0m\u001b[0mphoto_url\u001b[0m\u001b[0;34m)\u001b[0m\u001b[0;34m\u001b[0m\u001b[0;34m\u001b[0m\u001b[0m\n\u001b[1;32m     37\u001b[0m \u001b[0mimg\u001b[0m \u001b[0;34m=\u001b[0m \u001b[0mImage\u001b[0m\u001b[0;34m.\u001b[0m\u001b[0mopen\u001b[0m\u001b[0;34m(\u001b[0m\u001b[0mio\u001b[0m\u001b[0;34m.\u001b[0m\u001b[0mBytesIO\u001b[0m\u001b[0;34m(\u001b[0m\u001b[0mresponse\u001b[0m\u001b[0;34m.\u001b[0m\u001b[0mcontent\u001b[0m\u001b[0;34m)\u001b[0m\u001b[0;34m)\u001b[0m\u001b[0;34m\u001b[0m\u001b[0;34m\u001b[0m\u001b[0m\n",
      "\u001b[0;31mTypeError\u001b[0m: list indices must be integers or slices, not str"
     ]
    }
   ],
   "source": [
    "# trying to access Sortly API\n",
    "import urllib.request\n",
    "import json\n",
    "import urllib\n",
    "import requests\n",
    "import io\n",
    "import subprocess\n",
    "from PIL import Image\n",
    "\n",
    "client_secret = subprocess.check_output(\"./sortly_key.sh\").strip()\n",
    "\n",
    "headers = {\n",
    "  'Accept': 'application/json',\n",
    "  'Authorization': client_secret\n",
    "}\n",
    "# trying to use request instead of urllib but can't figure it out\n",
    "# request = requests.get('https://api.sortly.co/api/v1/items?per_page=&page=&folder_id=&include=', headers)\n",
    "# print(request)\n",
    "# response_py = request.json()\n",
    "request = urllib.request.Request('https://api.sortly.co/api/v1/items?per_page=&page=&folder_id=&include=', headers=headers)\n",
    "response_body = urllib.request.urlopen(request).read()\n",
    "response_py = json.loads(response_body)\n",
    "print(response_py)\n",
    "print(response_py['data'][0]['name'])\n",
    "next_url = response_py['meta']['next_page_url']\n",
    "request = urllib.request.Request(next_url, headers=headers)\n",
    "response_body = urllib.request.urlopen(request).read()\n",
    "response_py = json.loads(response_body)\n",
    "print(response_py['data'][0]['name'])\n",
    "next_url = response_py['meta']['next_page_url']\n",
    "request = urllib.request.Request('https://api.sortly.co/api/v1/items/17481596?include=custom_attributes%2Cphotos', headers=headers)\n",
    "response_body = urllib.request.urlopen(request).read()\n",
    "response_py = json.loads(response_body)\n",
    "print(response_py)\n",
    "photo_url = response_py['data']['photos']['url']\n",
    "response = requests.get(photo_url)\n",
    "img = Image.open(io.BytesIO(response.content))\n",
    "img.show()"
   ]
  },
  {
   "cell_type": "code",
   "execution_count": null,
   "metadata": {},
   "outputs": [],
   "source": []
  }
 ],
 "metadata": {
  "kernelspec": {
   "display_name": "Python 3",
   "language": "python",
   "name": "python3"
  },
  "language_info": {
   "codemirror_mode": {
    "name": "ipython",
    "version": 3
   },
   "file_extension": ".py",
   "mimetype": "text/x-python",
   "name": "python",
   "nbconvert_exporter": "python",
   "pygments_lexer": "ipython3",
   "version": "3.7.4"
  }
 },
 "nbformat": 4,
 "nbformat_minor": 4
}
