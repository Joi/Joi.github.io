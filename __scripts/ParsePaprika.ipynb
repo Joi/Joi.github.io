{
 "cells": [
  {
   "cell_type": "code",
   "execution_count": 164,
   "metadata": {},
   "outputs": [],
   "source": [
    "import os\n",
    "import gzip\n",
    "import io\n",
    "import json\n",
    "import pprint\n",
    "from zipfile import ZipFile\n",
    "\n",
    "# Path &File name sanitizer\n",
    "from pathvalidate import sanitize_filename"
   ]
  },
  {
   "cell_type": "markdown",
   "metadata": {},
   "source": [
    "---\n",
    "### Note\n",
    "Before running this script, install the \"pathvalidate\" module\n",
    "\n",
    "see: https://pypi.org/project/pathvalidate/#installation-pip\n",
    "\n",
    "run: pip install pathvalidate\n",
    "\n",
    "---"
   ]
  },
  {
   "cell_type": "code",
   "execution_count": 165,
   "metadata": {},
   "outputs": [],
   "source": [
    "# SET SCRIPT VARIABLES\n",
    "\n",
    "myVars = {\n",
    "    'paths': {\n",
    "        'paprika_export': './',\n",
    "        'paprika_jekyll': '../_recipes_md/'\n",
    "    },\n",
    "    'files': {\n",
    "        'paprika_export': 'RecipeTest.paprikarecipes'\n",
    "    }\n",
    "}\n",
    "# Learning to Pretty Print DICTs. I like to see the data I am sculpting with\n",
    "#pp = pprint.PrettyPrinter(indent=4)\n",
    "#pp.pprint(myVars)\n"
   ]
  },
  {
   "cell_type": "code",
   "execution_count": null,
   "metadata": {},
   "outputs": [],
   "source": [
    "# If our export dir does not exist, create it\n",
    "if not os.path.exists(myVars['paths']['paprika_jekyll']):\n",
    "    os.mkdir(myVars['paths']['paprika_jekyll'])"
   ]
  },
  {
   "cell_type": "code",
   "execution_count": 166,
   "metadata": {},
   "outputs": [],
   "source": [
    "# Function found on Gist 😸\n",
    "# https://gist.github.com/Garrett-R/dc6f08fc1eab63f94d2cbb89cb61c33d\n",
    "# This takes the GZIPed string from the files and retruns the unzipped JSON\n",
    "def gunzip_bytes_obj(bytes_obj):\n",
    "    in_ = io.BytesIO()\n",
    "    in_.write(bytes_obj)\n",
    "    in_.seek(0)\n",
    "    with gzip.GzipFile(fileobj=in_, mode='rb') as fo:\n",
    "        gunzipped_bytes_obj = fo.read()\n",
    "\n",
    "    return gunzipped_bytes_obj.decode()"
   ]
  },
  {
   "cell_type": "code",
   "execution_count": 167,
   "metadata": {},
   "outputs": [],
   "source": [
    "with ZipFile('RecipeTest.paprikarecipes', 'r') as zipObj:\n",
    "    for filename in zipObj.namelist():\n",
    "        #print('---------------------------------------')\n",
    "        #print('OFile: ' + filename)\n",
    "        \n",
    "        with zipObj.open(filename) as f:\n",
    "            data = f.read()\n",
    "            \n",
    "            # Using that function above to unGZIP the fie contents\n",
    "            data_json = gunzip_bytes_obj(data)\n",
    " \n",
    "            # \"loads\" that JSONinto a Python object\n",
    "            # https://docs.python.org/3/library/json.html#basic-usage\n",
    "            d = json.loads(data_json)\n",
    "            \n",
    "            # Prepare a cleaner filename we'll want for the Markdown Ouput (no spaces, etc)\n",
    "            #\n",
    "            # Get the \"created on\" date of the recpie in Paprika\n",
    "            created = d[\"created\"]\n",
    "            \n",
    "            # A few things going on here\n",
    "            # 1. we slice the created date so as to only get the date, not the time. learn about slice: https://www.freecodecamp.org/news/how-to-substring-a-string-in-python/\n",
    "            # 2. we run \"sanitize_filename\" (installed via PIP and imported above)\n",
    "            # 3. we replace spaces with dashes\n",
    "            fileName = sanitize_filename(created[0:10] + \"-\" + d[\"name\"]).replace(\" \",\"-\") + \".md\"\n",
    "            mdFilePath = myVars['paths']['paprika_jekyll'] + fileName\n",
    "            \n",
    "            # Print out some stuff to see\n",
    "            #print('RName: ' + d[\"name\"])\n",
    "            #print('FName: ' + fileName)\n",
    "            #print('Notes: ' + d[\"notes\"])\n",
    "            #print('CTime: ' + d[\"cook_time\"])\n",
    "            #print('PTime: ' + d[\"prep_time\"])\n",
    "            #print('Ratng: ' + str(d[\"rating\"]))\n",
    "            #print('NFPath: ' + mdFilePath)\n",
    "\n",
    "            # Create a string of Markdown\n",
    "            # So this will require some \"design.\" What do we want to include from the export?\n",
    "            # How should it be styled? What do we jam into the metadata/frontmatter\n",
    "            # What do we include as #tags in the body?\n",
    "            \n",
    "            output  = \"---\\n\"\n",
    "            output += \"created: \" + created + \"\\n\"\n",
    "            output += \"---\\n\"\n",
    "            output += \"# \" + d[\"name\"] + \"\\n\"\n",
    "            if d[\"prep_time\"] is not None:\n",
    "                output += \"## Prep time\\n\" + d[\"prep_time\"] + \"\\n\\n\"\n",
    "            if d[\"cook_time\"] is not None:\n",
    "                output += \"## Cook time\\n\" + d[\"cook_time\"] + \"\\n\\n\"\n",
    "                \n",
    "            if d[\"image_url\"] is not None:\n",
    "                output += \"![](\"+d[\"image_url\"]+\")\\n\\n\"\n",
    "                \n",
    "            if d[\"description\"] is not None:\n",
    "                output += \"## Description\\n\" + d[\"description\"] + \"\\n\\n---\\n\"\n",
    "                \n",
    "            if d[\"ingredients\"] is not None:\n",
    "                output += \"## Ingredients\\n\" + d[\"ingredients\"].replace(\"\\n\",\"<br>\") + \"\\n\\n---\\n\"\n",
    "            if d[\"directions\"] is not None:\n",
    "                output += \"## Directions\\n\" + d[\"directions\"] + \"\\n\\n---\\n\"\n",
    "\n",
    "            if d[\"notes\"] is not None:\n",
    "                output += \"## Notes\\n\" + d[\"notes\"] + \"\\n\\n---\\n\"\n",
    "\n",
    "            \n",
    "            #print(output)\n",
    "            \n",
    "            \n",
    "            # Create/Open a text file for each recipe and write the above Markdown string into it\n",
    "            f = open(mdFilePath, 'w')\n",
    "            f.write(output)\n",
    "            f.close()\n",
    "            # Close the file\n",
    "        \n",
    "        "
   ]
  },
  {
   "cell_type": "code",
   "execution_count": null,
   "metadata": {},
   "outputs": [],
   "source": []
  },
  {
   "cell_type": "code",
   "execution_count": 112,
   "metadata": {},
   "outputs": [],
   "source": [
    "# comment out for now\n",
    "\n",
    "#for filename in os.listdir('/Users/jito/GitHub/joi.github.io/_recipes'):\n",
    "#    if filename.endswith(\".asm\") or filename.endswith(\".py\"): \n",
    "  #      print(os.path.join('/Users/jito/GitHub/joi.github.io/_recipes', filename))\n",
    "  #      continue\n",
    " #   else:\n",
    " #       continue"
   ]
  },
  {
   "cell_type": "code",
   "execution_count": 103,
   "metadata": {},
   "outputs": [],
   "source": [
    "#with open('RecipeTest.paprikarecipes', encoding='utf-8') as f:\n",
    "#  data = json.load(f.decode(\"utf-8\",\"ignore\"))\n",
    "#print (data)"
   ]
  },
  {
   "cell_type": "code",
   "execution_count": null,
   "metadata": {},
   "outputs": [],
   "source": []
  }
 ],
 "metadata": {
  "kernelspec": {
   "display_name": "Python 3",
   "language": "python",
   "name": "python3"
  },
  "language_info": {
   "codemirror_mode": {
    "name": "ipython",
    "version": 3
   },
   "file_extension": ".py",
   "mimetype": "text/x-python",
   "name": "python",
   "nbconvert_exporter": "python",
   "pygments_lexer": "ipython3",
   "version": "3.7.8"
  }
 },
 "nbformat": 4,
 "nbformat_minor": 4
}
