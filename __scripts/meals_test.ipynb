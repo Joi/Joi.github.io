{
 "metadata": {
  "language_info": {
   "codemirror_mode": {
    "name": "ipython",
    "version": 3
   },
   "file_extension": ".py",
   "mimetype": "text/x-python",
   "name": "python",
   "nbconvert_exporter": "python",
   "pygments_lexer": "ipython3",
   "version": "3.9.2-final"
  },
  "orig_nbformat": 2,
  "kernelspec": {
   "name": "python3",
   "display_name": "Python 3.9.2 64-bit",
   "metadata": {
    "interpreter": {
     "hash": "aee8b7b246df8f9039afb4144a1f6fd8d2ca17a180786b69acc140d282b71a49"
    }
   }
  }
 },
 "nbformat": 4,
 "nbformat_minor": 2,
 "cells": [
  {
   "cell_type": "code",
   "execution_count": 119,
   "metadata": {},
   "outputs": [],
   "source": [
    "meal_indices = {\n",
    "    \"2020-05-20\": {\n",
    "        \"meal\": \n",
    "            {\"Dinner\": {\n",
    "                \"recipe_id\": 38}}\n",
    "            \n",
    "    }\n",
    "}"
   ]
  },
  {
   "cell_type": "code",
   "execution_count": 120,
   "metadata": {},
   "outputs": [
    {
     "output_type": "stream",
     "name": "stdout",
     "text": [
      "{'2020-05-20': {'meal': {'Dinner': {'recipe_id': 38}}}}\n"
     ]
    }
   ],
   "source": [
    "print(meal_indices)"
   ]
  },
  {
   "cell_type": "code",
   "execution_count": 121,
   "metadata": {},
   "outputs": [
    {
     "output_type": "stream",
     "name": "stdout",
     "text": [
      "38\n"
     ]
    }
   ],
   "source": [
    "print(meal_indices['2020-05-20']['meal']['Dinner']['recipe_id'])"
   ]
  },
  {
   "cell_type": "code",
   "execution_count": 122,
   "metadata": {},
   "outputs": [],
   "source": [
    "meal_indices['2020-05-20']['meal']['Lunch'] = {'recipe_id': 2}"
   ]
  },
  {
   "cell_type": "code",
   "execution_count": 123,
   "metadata": {},
   "outputs": [
    {
     "output_type": "stream",
     "name": "stdout",
     "text": [
      "{'Dinner': {'recipe_id': 38}, 'Lunch': {'recipe_id': 2}}\n"
     ]
    }
   ],
   "source": [
    "if 'Lunch' in meal_indices['2020-05-20']['meal']: print(meal_indices['2020-05-20']['meal'])\n",
    "else: meal_indices['2020-05-20']['meal']['Lunch'] = {'recipe_id': 3}"
   ]
  },
  {
   "cell_type": "code",
   "execution_count": 129,
   "metadata": {},
   "outputs": [],
   "source": [
    "meal_indices = {\n",
    "    \"2020-05-20\": {\n",
    "        \"meal\": \n",
    "            {\"Dinner\": {\n",
    "                \"recipe_id\": 38}}\n",
    "            \n",
    "    }\n",
    "}"
   ]
  },
  {
   "cell_type": "code",
   "execution_count": 130,
   "metadata": {},
   "outputs": [],
   "source": [
    "if 'Lunch' in meal_indices['2020-05-20']['meal']: print(meal_indices['2020-05-20']['meal'])\n",
    "else: meal_indices['2020-05-20']['meal']['Lunch'] = {'recipe_id': 3}"
   ]
  },
  {
   "cell_type": "code",
   "execution_count": 131,
   "metadata": {},
   "outputs": [
    {
     "output_type": "stream",
     "name": "stdout",
     "text": [
      "{'Dinner': {'recipe_id': 38}, 'Lunch': {'recipe_id': 3}}\n"
     ]
    }
   ],
   "source": [
    "print(meal_indices['2020-05-20']['meal'])"
   ]
  },
  {
   "cell_type": "code",
   "execution_count": null,
   "metadata": {},
   "outputs": [],
   "source": []
  }
 ]
}